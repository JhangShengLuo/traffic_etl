{
 "cells": [
  {
   "cell_type": "code",
   "execution_count": 48,
   "metadata": {
    "collapsed": true
   },
   "outputs": [],
   "source": [
    "import pandas as pd\n",
    "import numpy as np\n",
    "import matplotlib.pyplot as plt\n",
    "import bokeh\n",
    "%matplotlib inline\n",
    "import sys\n",
    "default_stdout = sys.stdout\n",
    "default_stderr = sys.stderr\n",
    "reload(sys)\n",
    "sys.stdout = default_stdout\n",
    "sys.stderr = default_stderr\n",
    "sys.setdefaultencoding('utf-8')"
   ]
  },
  {
   "cell_type": "code",
   "execution_count": 19,
   "metadata": {},
   "outputs": [
    {
     "name": "stdout",
     "output_type": "stream",
     "text": [
      "0314road_dict.txt                     cj20170504.csv\r\n",
      "0428_pre.csv                          cluster_six.csv\r\n",
      "VD0405.xlsx                           etl_db_pandas.ipynb\r\n",
      "\u001b[31mVD0426.xlsx\u001b[m\u001b[m                           etl_pre_all_value_v170501.ipynb\r\n",
      "ZC.csv                                monthly_jamp_congest_try_simple.ipynb\r\n",
      "\u001b[34maccu\u001b[m\u001b[m                                  read_display_data.ipynb\r\n",
      "all_in_one_0106_v3.ipynb              road_split.ipynb\r\n",
      "\u001b[34marea_vd\u001b[m\u001b[m                               small_test.xlsx\r\n",
      "cj20170426.csv                        \u001b[34mspeed\u001b[m\u001b[m\r\n",
      "cj20170501.csv                        taipei_road.ipynb\r\n"
     ]
    }
   ],
   "source": [
    "!ls"
   ]
  },
  {
   "cell_type": "code",
   "execution_count": 4,
   "metadata": {
    "collapsed": true
   },
   "outputs": [],
   "source": [
    "thisweekpre = pd.read_csv(\"cj20170504.csv\")"
   ]
  },
  {
   "cell_type": "code",
   "execution_count": 87,
   "metadata": {},
   "outputs": [],
   "source": [
    "xls='VD0426.xlsx'\n",
    "vd_info_excel_df=pd.read_excel(xls,encoding='utf-8');\n",
    "# 先去讀 excel\n",
    "\n",
    "\n"
   ]
  },
  {
   "cell_type": "code",
   "execution_count": null,
   "metadata": {
    "collapsed": true
   },
   "outputs": [],
   "source": [
    "%store -r modelneed"
   ]
  },
  {
   "cell_type": "code",
   "execution_count": 24,
   "metadata": {},
   "outputs": [],
   "source": [
    "# vd_info_excel_df"
   ]
  },
  {
   "cell_type": "code",
   "execution_count": 97,
   "metadata": {},
   "outputs": [
    {
     "data": {
      "text/plain": [
       "848"
      ]
     },
     "execution_count": 97,
     "metadata": {},
     "output_type": "execute_result"
    }
   ],
   "source": [
    "len(vd_info_excel_df)"
   ]
  },
  {
   "cell_type": "code",
   "execution_count": 88,
   "metadata": {},
   "outputs": [],
   "source": [
    "modelneed.vd=modelneed.vd.str.decode(\"utf-8\")\n",
    "modelneed.direct=modelneed.direct.str.decode(\"utf-8\")\n",
    "notcomplet=pd.merge(vd_info_excel_df,modelneed,on=[\"vd\",\"direct\"])"
   ]
  },
  {
   "cell_type": "code",
   "execution_count": 123,
   "metadata": {
    "collapsed": true
   },
   "outputs": [],
   "source": [
    "sortby_cluster_list=pd.read_csv(\"cluster_six.csv\")"
   ]
  },
  {
   "cell_type": "code",
   "execution_count": 157,
   "metadata": {},
   "outputs": [
    {
     "data": {
      "text/plain": [
       "840"
      ]
     },
     "execution_count": 157,
     "metadata": {},
     "output_type": "execute_result"
    }
   ],
   "source": [
    "len(sortby_cluster_list)"
   ]
  },
  {
   "cell_type": "code",
   "execution_count": null,
   "metadata": {
    "collapsed": true
   },
   "outputs": [],
   "source": []
  },
  {
   "cell_type": "code",
   "execution_count": null,
   "metadata": {
    "collapsed": true
   },
   "outputs": [],
   "source": []
  },
  {
   "cell_type": "code",
   "execution_count": 137,
   "metadata": {},
   "outputs": [],
   "source": [
    "vd_info_excel_dfc=vd_info_excel_df.copy()\n",
    "vd_info_excel_dfc.insert(2,\"redirect\",vd_info_excel_dfc.direct)\n",
    "\n",
    "\n",
    "pattern= {'redirect':{u'.?東$':'東',u'.?西$':'西',u'.?南$':'南',u'.?北$':'北',u'.向放置':'未指定'}}\n",
    "# 把方向改成統一規格\n",
    "\n",
    "vd_info_excel_dfc=vd_info_excel_dfc.replace(pattern,regex=True);\n"
   ]
  },
  {
   "cell_type": "code",
   "execution_count": 140,
   "metadata": {},
   "outputs": [],
   "source": [
    "vd_info_excel_dfc=vd_info_excel_dfc.rename(index=str,columns={\"direct\":\"olddirect\",\"redirect\":\"direct\"})"
   ]
  },
  {
   "cell_type": "code",
   "execution_count": 146,
   "metadata": {},
   "outputs": [],
   "source": [
    "sortby_cluster_list.vd=sortby_cluster_list.vd.str.decode(\"utf-8\")\n",
    "sortby_cluster_list.direct=sortby_cluster_list.direct.str.decode(\"utf-8\")\n",
    "\n",
    "realdf=pd.merge(sortby_cluster_list,vd_info_excel_dfc.ix[:,[0,1,2]],on=[\"vd\",\"direct\"])"
   ]
  },
  {
   "cell_type": "code",
   "execution_count": 155,
   "metadata": {},
   "outputs": [],
   "source": [
    "realdf=realdf.drop(\"direct\",axis=1)\n",
    "realdf=realdf.rename(index=str,columns={\"olddirect\":\"direct\"})"
   ]
  },
  {
   "cell_type": "code",
   "execution_count": 159,
   "metadata": {},
   "outputs": [],
   "source": [
    "realdf.to_csv(\"cluster_six.csv\",index=False,encoding=\"utf-8\")"
   ]
  },
  {
   "cell_type": "code",
   "execution_count": null,
   "metadata": {
    "collapsed": true
   },
   "outputs": [],
   "source": []
  },
  {
   "cell_type": "code",
   "execution_count": null,
   "metadata": {
    "collapsed": true
   },
   "outputs": [],
   "source": []
  },
  {
   "cell_type": "code",
   "execution_count": 95,
   "metadata": {},
   "outputs": [
    {
     "data": {
      "text/plain": [
       "854.0"
      ]
     },
     "execution_count": 95,
     "metadata": {},
     "output_type": "execute_result"
    }
   ],
   "source": [
    "float(len(modelneed))/168"
   ]
  },
  {
   "cell_type": "code",
   "execution_count": 96,
   "metadata": {},
   "outputs": [
    {
     "data": {
      "text/plain": [
       "830.0"
      ]
     },
     "execution_count": 96,
     "metadata": {},
     "output_type": "execute_result"
    }
   ],
   "source": [
    "float(len(notcomplet))/168"
   ]
  },
  {
   "cell_type": "code",
   "execution_count": null,
   "metadata": {
    "collapsed": true
   },
   "outputs": [],
   "source": []
  },
  {
   "cell_type": "code",
   "execution_count": null,
   "metadata": {
    "collapsed": true
   },
   "outputs": [],
   "source": []
  }
 ],
 "metadata": {
  "kernelspec": {
   "display_name": "Python [Root]",
   "language": "python",
   "name": "Python [Root]"
  },
  "language_info": {
   "codemirror_mode": {
    "name": "ipython",
    "version": 2
   },
   "file_extension": ".py",
   "mimetype": "text/x-python",
   "name": "python",
   "nbconvert_exporter": "python",
   "pygments_lexer": "ipython2",
   "version": "2.7.12"
  }
 },
 "nbformat": 4,
 "nbformat_minor": 1
}
