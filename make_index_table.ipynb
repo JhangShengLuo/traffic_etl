{
 "cells": [
  {
   "cell_type": "code",
   "execution_count": 1,
   "metadata": {
    "collapsed": true
   },
   "outputs": [],
   "source": [
    "import numpy as np\n",
    "import pandas as pd\n",
    "import jieba as jb\n",
    "import matplotlib.pyplot as plt\n",
    "%matplotlib inline\n",
    "import math\n",
    "import time\n",
    "import datetime\n",
    "import os\n",
    "import re\n",
    "import io\n",
    "import csv\n",
    "import shutil\n",
    "import sys\n",
    "import mysql.connector as sql\n",
    "from mysql.connector import MySQLConnection, Error\n",
    "default_stdout = sys.stdout\n",
    "default_stderr = sys.stderr\n",
    "reload(sys)\n",
    "sys.stdout = default_stdout\n",
    "sys.stderr = default_stderr\n",
    "sys.setdefaultencoding('utf-8')"
   ]
  },
  {
   "cell_type": "code",
   "execution_count": 3,
   "metadata": {
    "collapsed": false
   },
   "outputs": [],
   "source": [
    "db_connection = sql.connect(host='localhost', database='taipeiall', user='root', password='apple')\n",
    "taipeidf=pd.read_sql('show tables;', con=db_connection)\n",
    "taipeidfc=taipeidf.copy()\n",
    "taipeidfc.columns=['tablename']\n",
    "taipeidfc['VD'] = taipeidfc.ix[:,0].str[1:]\n",
    "taipeidfc['direct'] = taipeidfc.ix[:,0].str[:1]"
   ]
  },
  {
   "cell_type": "code",
   "execution_count": 4,
   "metadata": {
    "collapsed": false
   },
   "outputs": [],
   "source": [
    "vdindex=pd.read_excel('vdindex.xlsx',encoding='utf-8');"
   ]
  },
  {
   "cell_type": "code",
   "execution_count": 5,
   "metadata": {
    "collapsed": false
   },
   "outputs": [],
   "source": [
    "pattern= {'direct':{u'.?東$':'E',u'.?西$':'W',u'.?南$':'S',u'.?北$':'N',u'.向放置':'U',u'未指定':'U'},\\\n",
    "         'newdirect':{u'.?東.?':'E',u'.?西.?':'W',u'.?南.?':'S',u'.?北.?':'N',u'正向放置':'U',u'未指定':'U'}}\n",
    "\n",
    "vdindex=vdindex.replace(pattern,regex=True);"
   ]
  },
  {
   "cell_type": "code",
   "execution_count": null,
   "metadata": {
    "collapsed": true
   },
   "outputs": [],
   "source": []
  },
  {
   "cell_type": "code",
   "execution_count": 6,
   "metadata": {
    "collapsed": true
   },
   "outputs": [],
   "source": [
    "result=pd.merge(taipeidfc, vdindex, on=['VD','direct'])"
   ]
  },
  {
   "cell_type": "code",
   "execution_count": 7,
   "metadata": {
    "collapsed": false
   },
   "outputs": [],
   "source": [
    "outerjoin=pd.merge(taipeidfc, vdindex, how='outer', on=['VD','direct'])"
   ]
  },
  {
   "cell_type": "code",
   "execution_count": 15,
   "metadata": {
    "collapsed": false
   },
   "outputs": [
    {
     "data": {
      "text/plain": [
       "count          857\n",
       "unique         853\n",
       "top       UV6151C0\n",
       "freq             2\n",
       "Name: tablename, dtype: object"
      ]
     },
     "execution_count": 15,
     "metadata": {},
     "output_type": "execute_result"
    }
   ],
   "source": [
    "outerjoin.ix[outerjoin.ix[:,0].notnull()].tablename.describe()"
   ]
  },
  {
   "cell_type": "code",
   "execution_count": null,
   "metadata": {
    "collapsed": true
   },
   "outputs": [],
   "source": []
  },
  {
   "cell_type": "code",
   "execution_count": 52,
   "metadata": {
    "collapsed": false
   },
   "outputs": [],
   "source": [
    "# result=result.drop('tablename_y',axis=1);"
   ]
  },
  {
   "cell_type": "code",
   "execution_count": 60,
   "metadata": {
    "collapsed": false
   },
   "outputs": [],
   "source": [
    "# result"
   ]
  },
  {
   "cell_type": "code",
   "execution_count": 6,
   "metadata": {
    "collapsed": false
   },
   "outputs": [],
   "source": [
    "# tablelist=taipeidfc.ix[:,0].tolist()"
   ]
  },
  {
   "cell_type": "code",
   "execution_count": null,
   "metadata": {
    "collapsed": true
   },
   "outputs": [],
   "source": []
  }
 ],
 "metadata": {
  "anaconda-cloud": {},
  "kernelspec": {
   "display_name": "Python [Root]",
   "language": "python",
   "name": "Python [Root]"
  },
  "language_info": {
   "codemirror_mode": {
    "name": "ipython",
    "version": 2
   },
   "file_extension": ".py",
   "mimetype": "text/x-python",
   "name": "python",
   "nbconvert_exporter": "python",
   "pygments_lexer": "ipython2",
   "version": "2.7.12"
  }
 },
 "nbformat": 4,
 "nbformat_minor": 0
}
