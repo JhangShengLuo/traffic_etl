{
 "cells": [
  {
   "cell_type": "code",
   "execution_count": 2,
   "metadata": {
    "collapsed": true
   },
   "outputs": [],
   "source": [
    "import numpy as np\n",
    "import pandas as pd\n",
    "import jieba as jb\n",
    "import matplotlib.pyplot as plt\n",
    "%matplotlib inline\n",
    "import math\n",
    "import time\n",
    "import datetime\n",
    "import os\n",
    "import re\n",
    "import io\n",
    "import csv\n",
    "import shutil\n",
    "import sys\n",
    "import mysql.connector as sql\n",
    "from mysql.connector import MySQLConnection, Error\n",
    "default_stdout = sys.stdout\n",
    "default_stderr = sys.stderr\n",
    "reload(sys)\n",
    "sys.stdout = default_stdout\n",
    "sys.stderr = default_stderr\n",
    "sys.setdefaultencoding('utf-8')"
   ]
  },
  {
   "cell_type": "code",
   "execution_count": 3,
   "metadata": {
    "collapsed": false
   },
   "outputs": [],
   "source": [
    "db_connection = sql.connect(host='localhost', database='road_name', user='root', password='apple')\n",
    "\n",
    "taipei_road=pd.read_sql('SELECT * FROM streetname where(city = \"台北市\")', con=db_connection)\n",
    "\n",
    "regex_pattern = {\"road\":{u'１':'ㄧ',u'２':'二',u'３':'三',u'４':'四',u'５':'五',u'６':'六',u'７':'七'}}\n",
    "\n",
    "taipei_road=taipei_road.replace(regex_pattern,regex=True)\n",
    "\n",
    "\n",
    "# [u'１',u'２',u'３',u'４',u'５',u'６',u'７']\n",
    "    \n",
    "# taipei_road"
   ]
  },
  {
   "cell_type": "code",
   "execution_count": null,
   "metadata": {
    "collapsed": true
   },
   "outputs": [],
   "source": []
  },
  {
   "cell_type": "code",
   "execution_count": null,
   "metadata": {
    "collapsed": true
   },
   "outputs": [],
   "source": []
  },
  {
   "cell_type": "code",
   "execution_count": null,
   "metadata": {
    "collapsed": true
   },
   "outputs": [],
   "source": [
    "['路','街','大道','橋']"
   ]
  },
  {
   "cell_type": "code",
   "execution_count": 6,
   "metadata": {
    "collapsed": false
   },
   "outputs": [],
   "source": [
    "long_road = set()\n",
    "\n",
    "for row in taipei_road.ix[:,'road']:\n",
    "    pattern = u'[ㄧ二三四五六七]段'\n",
    "    if re.findall(pattern,row):\n",
    "        long_road.add(re.split(pattern,row)[0])\n",
    "#         print re.split(pattern,row)[0]\n",
    "\n",
    "long_rddf = pd.DataFrame(list(long_road))\n",
    "\n",
    "long_rddf.loc[:,'weight'] = 3\n",
    "long_rddf.columns = ['road','weight']\n",
    "\n",
    "\n"
   ]
  },
  {
   "cell_type": "code",
   "execution_count": 19,
   "metadata": {
    "collapsed": false
   },
   "outputs": [],
   "source": [
    "# road_weight.ix[:,['road']]\n",
    "\n",
    "\n",
    "road_number = []\n",
    "\n",
    "for row in road_weight.ix[:,'road']:\n",
    "#     print row\n",
    "    pattern = u'[ㄧ二三四五六七]段'\n",
    "    if re.findall(pattern,row):\n",
    "        road_number.append(row)\n",
    "\n",
    "\n",
    "rdnum = pd.DataFrame(road_number)\n"
   ]
  },
  {
   "cell_type": "code",
   "execution_count": 29,
   "metadata": {
    "collapsed": false
   },
   "outputs": [],
   "source": [
    "# rdnum.columns=['road']\n",
    "# rdnum.loc[:,'weight'] = 5\n",
    "# regex_pattern = {\"road\":{u'ㄧ':'1',u'二':'2',u'三':'3',u'四':'4',u'五':'5',u'六':'6',u'七':'7'}}\n",
    "\n",
    "# rdnum=rdnum.replace(regex_pattern,regex=True)\n"
   ]
  },
  {
   "cell_type": "code",
   "execution_count": 10,
   "metadata": {
    "collapsed": false
   },
   "outputs": [],
   "source": [
    "road_weight = taipei_road[['road']].copy()\n",
    "road_weight.loc[:,'weight'] = 4"
   ]
  },
  {
   "cell_type": "code",
   "execution_count": 30,
   "metadata": {
    "collapsed": false
   },
   "outputs": [],
   "source": [
    "pd.concat([road_weight,long_rddf,rdnum],ignore_index=True).to_csv('0315road_dict',sep = \" \",index= False)"
   ]
  },
  {
   "cell_type": "code",
   "execution_count": null,
   "metadata": {
    "collapsed": true
   },
   "outputs": [],
   "source": []
  },
  {
   "cell_type": "code",
   "execution_count": null,
   "metadata": {
    "collapsed": true
   },
   "outputs": [],
   "source": []
  }
 ],
 "metadata": {
  "kernelspec": {
   "display_name": "Python [Root]",
   "language": "python",
   "name": "Python [Root]"
  },
  "language_info": {
   "codemirror_mode": {
    "name": "ipython",
    "version": 2
   },
   "file_extension": ".py",
   "mimetype": "text/x-python",
   "name": "python",
   "nbconvert_exporter": "python",
   "pygments_lexer": "ipython2",
   "version": "2.7.12"
  }
 },
 "nbformat": 4,
 "nbformat_minor": 0
}
