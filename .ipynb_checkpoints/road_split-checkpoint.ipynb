{
 "cells": [
  {
   "cell_type": "code",
   "execution_count": 17,
   "metadata": {
    "collapsed": true
   },
   "outputs": [],
   "source": [
    "import numpy as np\n",
    "import pandas as pd\n",
    "import jieba as jb\n",
    "import matplotlib.pyplot as plt\n",
    "%matplotlib inline\n",
    "import math\n",
    "import time\n",
    "import datetime\n",
    "import os\n",
    "import re\n",
    "import io\n",
    "import csv\n",
    "import shutil\n",
    "import sys\n",
    "import mysql.connector as sql\n",
    "from sqlalchemy import create_engine\n",
    "from mysql.connector import MySQLConnection, Error\n",
    "default_stdout = sys.stdout\n",
    "default_stderr = sys.stderr\n",
    "reload(sys)\n",
    "sys.stdout = default_stdout\n",
    "sys.stderr = default_stderr\n",
    "sys.setdefaultencoding('utf-8')"
   ]
  },
  {
   "cell_type": "code",
   "execution_count": 43,
   "metadata": {
    "collapsed": false
   },
   "outputs": [],
   "source": []
  },
  {
   "cell_type": "code",
   "execution_count": 3,
   "metadata": {
    "collapsed": false
   },
   "outputs": [
    {
     "name": "stdout",
     "output_type": "stream",
     "text": [
      "It cost 1.301621 sec\n"
     ]
    }
   ],
   "source": [
    "import time\n",
    "tStart = time.time()\n",
    "\n",
    "db_connection = sql.connect(host='localhost', database='taipeiall', user='root', password='apple')\n",
    "\n",
    "\n",
    "etldf=pd.read_sql('SELECT * FROM UVIKQP20', con=db_connection)\n",
    "\n",
    "\n",
    "\n",
    "tEnd = time.time()\n",
    "print \"It cost %f sec\" % (tEnd - tStart)"
   ]
  },
  {
   "cell_type": "code",
   "execution_count": 5,
   "metadata": {
    "collapsed": true
   },
   "outputs": [],
   "source": [
    "#把bytesarray 變成utf-8\n",
    "def decode_to_utf8(df):\n",
    "    df.EQIPnumber=df.EQIPnumber.str.decode(\"utf-8\")\n",
    "    df.location=df.location.str.decode(\"utf-8\")\n",
    "    df.direct=df.direct.str.decode(\"utf-8\")\n",
    "    df.YMD=df.YMD.str.decode(\"utf-8\")\n",
    "    df.hour=df.hour.str.decode(\"utf-8\")\n",
    "    return df\n",
    "\n",
    "df=decode_to_utf8(etldf) "
   ]
  },
  {
   "cell_type": "code",
   "execution_count": null,
   "metadata": {
    "collapsed": true
   },
   "outputs": [],
   "source": []
  },
  {
   "cell_type": "code",
   "execution_count": null,
   "metadata": {
    "collapsed": true
   },
   "outputs": [],
   "source": []
  },
  {
   "cell_type": "code",
   "execution_count": null,
   "metadata": {
    "collapsed": true
   },
   "outputs": [],
   "source": []
  },
  {
   "cell_type": "code",
   "execution_count": 26,
   "metadata": {
    "collapsed": false
   },
   "outputs": [],
   "source": [
    "def define_road(df):\n",
    "    import time\n",
    "    tStart = time.time()\n",
    "    \n",
    "    df.ix[:,'jb_result'] = None\n",
    "    jb.load_userdict(\"road_dict.txt\")\n",
    "    for locatnum in range(len(df.ix[:,'location'])):\n",
    "        jb_cut = jb.cut(df.ix[locatnum,'location'])\n",
    "        temp= []\n",
    "        for i in jb_cut:\n",
    "            if (('路'in i) or ('街' in i) or ('大道' in i)):\n",
    "                temp.append(i)\n",
    "        temp=\";\".join(temp)\n",
    "        df.set_value(locatnum,'jb_result',temp)\n",
    "        \n",
    "    tEnd = time.time()\n",
    "    print \"It cost %f sec\" % (tEnd - tStart)\n"
   ]
  },
  {
   "cell_type": "code",
   "execution_count": 27,
   "metadata": {
    "collapsed": false
   },
   "outputs": [
    {
     "name": "stderr",
     "output_type": "stream",
     "text": [
      "Building prefix dict from the default dictionary ...\n",
      "Dumping model to file cache /var/folders/4s/ly8cdp1d3750yx32m1zyd3wm0000gn/T/jieba.cache\n",
      "Loading model cost 2.492 seconds.\n",
      "Prefix dict has been built succesfully.\n"
     ]
    },
    {
     "name": "stdout",
     "output_type": "stream",
     "text": [
      "It cost 129.017625 sec\n"
     ]
    }
   ],
   "source": [
    "define_road(df_all)\n",
    "\n"
   ]
  },
  {
   "cell_type": "code",
   "execution_count": 28,
   "metadata": {
    "collapsed": true
   },
   "outputs": [],
   "source": [
    "df_all=df_all.drop(['scooterflow','truckflow','addTotal'],axis=1)"
   ]
  },
  {
   "cell_type": "code",
   "execution_count": 34,
   "metadata": {
    "collapsed": false
   },
   "outputs": [],
   "source": [
    "vdlist = df_all.ix[:,'EQIPnumber'].unique().tolist()\n",
    "# vdlist"
   ]
  },
  {
   "cell_type": "code",
   "execution_count": 35,
   "metadata": {
    "collapsed": false
   },
   "outputs": [
    {
     "data": {
      "text/plain": [
       "Index([ u'EQIPnumber',    u'location',      u'direct',         u'YMD',\n",
       "              u'hour',  u'laneNumber',     u'15Total',     u'carflow',\n",
       "          u'avgspeed',  u'avgPercent', u'avgCarSpace',   u'jb_result'],\n",
       "      dtype='object')"
      ]
     },
     "execution_count": 35,
     "metadata": {},
     "output_type": "execute_result"
    }
   ],
   "source": [
    "df_all.columns"
   ]
  },
  {
   "cell_type": "code",
   "execution_count": 40,
   "metadata": {
    "collapsed": false
   },
   "outputs": [
    {
     "name": "stdout",
     "output_type": "stream",
     "text": [
      "汀州路\n",
      "金門街\n",
      "和平西路一段\n",
      "和平西路二段\n",
      "西藏路\n",
      "莒光路\n",
      "信義路一段\n",
      "仁愛路二段\n",
      "濟南路一段\n",
      "忠孝東路二段\n",
      "八德路一段\n",
      "濟南路二段\n",
      "忠孝東路一段\n",
      "市民大道三段\n",
      "忠孝西路一段\n",
      "市民大道二段;長安東路一段\n",
      "市民大道一段;中山北路\n",
      "忠孝西路二段\n",
      "鄭州路\n",
      "街\n",
      "\n",
      "水源路\n",
      "路水博館\n",
      "重慶南路三段;路\n",
      "中華路二段\n",
      "重慶南路三段\n",
      "羅斯福路二段\n",
      "和平西路;和平西路;莒光路\n",
      "重慶南路二段\n",
      "中山南路\n",
      "重慶南路一段\n",
      "杭州南路一段\n",
      "金山南路一段\n",
      "林森南路\n",
      "林森北路\n",
      "青年路\n",
      "詔安街\n",
      "師大路\n",
      "汀州路三段\n",
      "羅斯福路四段\n",
      "林森南路;仁愛路一段\n",
      "林森南路;路口\n",
      "市民大道\n",
      "八德路\n",
      "信義路二段;路燈桿\n",
      "信義路二段\n",
      "羅斯福路\n",
      "基隆路三段;汀州路三段;路\n",
      "愛國東路\n"
     ]
    }
   ],
   "source": [
    "for i in df_all.jb_result.unique().tolist():\n",
    "    print i"
   ]
  },
  {
   "cell_type": "code",
   "execution_count": 612,
   "metadata": {
    "collapsed": false
   },
   "outputs": [],
   "source": [
    "df_all.to_csv('ZC.csv',index=False)"
   ]
  },
  {
   "cell_type": "code",
   "execution_count": 17,
   "metadata": {
    "collapsed": false
   },
   "outputs": [],
   "source": [
    "zc_w_road=pd.read_csv('ZC.csv',encoding='utf-8')"
   ]
  },
  {
   "cell_type": "code",
   "execution_count": 20,
   "metadata": {
    "collapsed": false
   },
   "outputs": [
    {
     "data": {
      "text/plain": [
       "0         [u'\\u6c40\\u5dde\\u8def']\n",
       "1         [u'\\u6c40\\u5dde\\u8def']\n",
       "2         [u'\\u6c40\\u5dde\\u8def']\n",
       "3         [u'\\u6c40\\u5dde\\u8def']\n",
       "4         [u'\\u6c40\\u5dde\\u8def']\n",
       "5         [u'\\u6c40\\u5dde\\u8def']\n",
       "6         [u'\\u6c40\\u5dde\\u8def']\n",
       "7         [u'\\u6c40\\u5dde\\u8def']\n",
       "8         [u'\\u6c40\\u5dde\\u8def']\n",
       "9         [u'\\u6c40\\u5dde\\u8def']\n",
       "10        [u'\\u6c40\\u5dde\\u8def']\n",
       "11        [u'\\u6c40\\u5dde\\u8def']\n",
       "12        [u'\\u6c40\\u5dde\\u8def']\n",
       "13        [u'\\u6c40\\u5dde\\u8def']\n",
       "14        [u'\\u6c40\\u5dde\\u8def']\n",
       "15        [u'\\u6c40\\u5dde\\u8def']\n",
       "16        [u'\\u6c40\\u5dde\\u8def']\n",
       "17        [u'\\u6c40\\u5dde\\u8def']\n",
       "18        [u'\\u6c40\\u5dde\\u8def']\n",
       "19        [u'\\u6c40\\u5dde\\u8def']\n",
       "20        [u'\\u6c40\\u5dde\\u8def']\n",
       "21        [u'\\u6c40\\u5dde\\u8def']\n",
       "22        [u'\\u6c40\\u5dde\\u8def']\n",
       "23        [u'\\u6c40\\u5dde\\u8def']\n",
       "24        [u'\\u6c40\\u5dde\\u8def']\n",
       "25        [u'\\u6c40\\u5dde\\u8def']\n",
       "26        [u'\\u6c40\\u5dde\\u8def']\n",
       "27        [u'\\u6c40\\u5dde\\u8def']\n",
       "28        [u'\\u6c40\\u5dde\\u8def']\n",
       "29        [u'\\u6c40\\u5dde\\u8def']\n",
       "                   ...           \n",
       "719163    [u'\\u912d\\u5dde\\u8def']\n",
       "719164    [u'\\u912d\\u5dde\\u8def']\n",
       "719165    [u'\\u912d\\u5dde\\u8def']\n",
       "719166    [u'\\u912d\\u5dde\\u8def']\n",
       "719167    [u'\\u912d\\u5dde\\u8def']\n",
       "719168    [u'\\u912d\\u5dde\\u8def']\n",
       "719169    [u'\\u912d\\u5dde\\u8def']\n",
       "719170    [u'\\u912d\\u5dde\\u8def']\n",
       "719171    [u'\\u912d\\u5dde\\u8def']\n",
       "719172    [u'\\u912d\\u5dde\\u8def']\n",
       "719173    [u'\\u912d\\u5dde\\u8def']\n",
       "719174    [u'\\u912d\\u5dde\\u8def']\n",
       "719175    [u'\\u912d\\u5dde\\u8def']\n",
       "719176    [u'\\u912d\\u5dde\\u8def']\n",
       "719177    [u'\\u912d\\u5dde\\u8def']\n",
       "719178    [u'\\u912d\\u5dde\\u8def']\n",
       "719179    [u'\\u912d\\u5dde\\u8def']\n",
       "719180    [u'\\u912d\\u5dde\\u8def']\n",
       "719181    [u'\\u912d\\u5dde\\u8def']\n",
       "719182    [u'\\u912d\\u5dde\\u8def']\n",
       "719183    [u'\\u912d\\u5dde\\u8def']\n",
       "719184    [u'\\u912d\\u5dde\\u8def']\n",
       "719185    [u'\\u912d\\u5dde\\u8def']\n",
       "719186    [u'\\u912d\\u5dde\\u8def']\n",
       "719187    [u'\\u912d\\u5dde\\u8def']\n",
       "719188    [u'\\u912d\\u5dde\\u8def']\n",
       "719189    [u'\\u912d\\u5dde\\u8def']\n",
       "719190    [u'\\u912d\\u5dde\\u8def']\n",
       "719191    [u'\\u912d\\u5dde\\u8def']\n",
       "719192    [u'\\u912d\\u5dde\\u8def']\n",
       "Name: jb_result, dtype: object"
      ]
     },
     "execution_count": 20,
     "metadata": {},
     "output_type": "execute_result"
    }
   ],
   "source": [
    "zc_w_road.jb_result"
   ]
  },
  {
   "cell_type": "code",
   "execution_count": null,
   "metadata": {
    "collapsed": true
   },
   "outputs": [],
   "source": []
  },
  {
   "cell_type": "code",
   "execution_count": null,
   "metadata": {
    "collapsed": true
   },
   "outputs": [],
   "source": []
  }
 ],
 "metadata": {
  "anaconda-cloud": {},
  "kernelspec": {
   "display_name": "Python [Root]",
   "language": "python",
   "name": "Python [Root]"
  },
  "language_info": {
   "codemirror_mode": {
    "name": "ipython",
    "version": 2
   },
   "file_extension": ".py",
   "mimetype": "text/x-python",
   "name": "python",
   "nbconvert_exporter": "python",
   "pygments_lexer": "ipython2",
   "version": "2.7.12"
  }
 },
 "nbformat": 4,
 "nbformat_minor": 0
}
